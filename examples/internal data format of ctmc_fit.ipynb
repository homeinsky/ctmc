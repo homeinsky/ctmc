{
 "cells": [
  {
   "cell_type": "markdown",
   "metadata": {},
   "source": [
    "### The Internal Data Format for ctmc\n",
    "The function `ctmc` or `Ctmc` class expect the data to be structured as follows"
   ]
  },
  {
   "cell_type": "code",
   "execution_count": 1,
   "metadata": {
    "ExecuteTime": {
     "end_time": "2018-09-01T20:16:48.521661Z",
     "start_time": "2018-09-01T20:16:48.511886Z"
    }
   },
   "outputs": [],
   "source": [
    "data = [([0, 1, 2, 1], [2.2, 3.35, 9.4, 1.3]), \n",
    "        ([1, 0, 1], [4.0, 1.25, 1.7])]"
   ]
  },
  {
   "cell_type": "markdown",
   "metadata": {},
   "source": [
    "Each example or event chain is one element in a array `data`.\n",
    "\n",
    "* The first entry of entry of an example row is a list of **states**, \n",
    "* the second entry a list **time periods** a state lasted.\n"
   ]
  },
  {
   "cell_type": "markdown",
   "metadata": {},
   "source": [
    "### How does it work in ctmc?"
   ]
  },
  {
   "cell_type": "markdown",
   "metadata": {},
   "source": [
    "Initialize variables"
   ]
  },
  {
   "cell_type": "code",
   "execution_count": 2,
   "metadata": {
    "ExecuteTime": {
     "end_time": "2018-09-01T20:17:32.967965Z",
     "start_time": "2018-09-01T20:17:32.961972Z"
    }
   },
   "outputs": [],
   "source": [
    "import numpy as np\n",
    "numstates = 3\n",
    "statetime = np.zeros(numstates, dtype=float)\n",
    "transcount = np.zeros(shape=(numstates, numstates), dtype=int)"
   ]
  },
  {
   "cell_type": "markdown",
   "metadata": {},
   "source": [
    "Loop over all examples, \n",
    "and cumulate time periods and count transitions across all examples."
   ]
  },
  {
   "cell_type": "code",
   "execution_count": 3,
   "metadata": {
    "ExecuteTime": {
     "end_time": "2018-09-01T20:20:46.174968Z",
     "start_time": "2018-09-01T20:20:46.169468Z"
    }
   },
   "outputs": [],
   "source": [
    "for _, example in enumerate(data):\n",
    "    states = example[0]\n",
    "    times = example[1]\n",
    "    \n",
    "    for i,s in enumerate(states):\n",
    "        statetime[s] += times[i]\n",
    "        if i: transcount[states[i-1], s] += 1"
   ]
  },
  {
   "cell_type": "markdown",
   "metadata": {},
   "source": [
    "The intermediate results are"
   ]
  },
  {
   "cell_type": "code",
   "execution_count": 4,
   "metadata": {
    "ExecuteTime": {
     "end_time": "2018-09-01T20:21:29.070819Z",
     "start_time": "2018-09-01T20:21:29.059698Z"
    }
   },
   "outputs": [
    {
     "data": {
      "text/plain": [
       "array([ 3.45, 10.35,  9.4 ])"
      ]
     },
     "execution_count": 4,
     "metadata": {},
     "output_type": "execute_result"
    }
   ],
   "source": [
    "statetime"
   ]
  },
  {
   "cell_type": "code",
   "execution_count": 5,
   "metadata": {
    "ExecuteTime": {
     "end_time": "2018-09-01T20:21:29.759006Z",
     "start_time": "2018-09-01T20:21:29.750955Z"
    }
   },
   "outputs": [
    {
     "data": {
      "text/plain": [
       "array([[0, 2, 0],\n",
       "       [1, 0, 1],\n",
       "       [0, 1, 0]])"
      ]
     },
     "execution_count": 5,
     "metadata": {},
     "output_type": "execute_result"
    }
   ],
   "source": [
    "transcount"
   ]
  }
 ],
 "metadata": {
  "kernelspec": {
   "display_name": "Python 3",
   "language": "python",
   "name": "python3"
  },
  "language_info": {
   "codemirror_mode": {
    "name": "ipython",
    "version": 3
   },
   "file_extension": ".py",
   "mimetype": "text/x-python",
   "name": "python",
   "nbconvert_exporter": "python",
   "pygments_lexer": "ipython3",
   "version": "3.6.2"
  },
  "toc": {
   "base_numbering": 1,
   "nav_menu": {},
   "number_sections": true,
   "sideBar": true,
   "skip_h1_title": false,
   "title_cell": "Table of Contents",
   "title_sidebar": "Contents",
   "toc_cell": false,
   "toc_position": {},
   "toc_section_display": true,
   "toc_window_display": false
  },
  "varInspector": {
   "cols": {
    "lenName": 16,
    "lenType": 16,
    "lenVar": 40
   },
   "kernels_config": {
    "python": {
     "delete_cmd_postfix": "",
     "delete_cmd_prefix": "del ",
     "library": "var_list.py",
     "varRefreshCmd": "print(var_dic_list())"
    },
    "r": {
     "delete_cmd_postfix": ") ",
     "delete_cmd_prefix": "rm(",
     "library": "var_list.r",
     "varRefreshCmd": "cat(var_dic_list()) "
    }
   },
   "types_to_exclude": [
    "module",
    "function",
    "builtin_function_or_method",
    "instance",
    "_Feature"
   ],
   "window_display": false
  }
 },
 "nbformat": 4,
 "nbformat_minor": 2
}
