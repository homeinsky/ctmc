{
 "cells": [
  {
   "cell_type": "code",
   "execution_count": 1,
   "metadata": {},
   "outputs": [],
   "source": [
    "import sys\n",
    "sys.path.append('..')\n",
    "import ctmc"
   ]
  },
  {
   "cell_type": "markdown",
   "metadata": {},
   "source": [
    "## What errors will cause exceptions?\n",
    "* Duration or time period in a certain state is smaller than `toltime` => Delete these observations\n",
    "* Two consecutive states refer to the same state, i.e. there is no transition => Merge these observations\n",
    "* An example has just one state as observation => Delete the example"
   ]
  },
  {
   "cell_type": "markdown",
   "metadata": {},
   "source": [
    "## Examples how ctmc.datacorrection behaves"
   ]
  },
  {
   "cell_type": "code",
   "execution_count": 2,
   "metadata": {},
   "outputs": [
    {
     "data": {
      "text/plain": [
       "[[(2, 3), (1.6, 2.7)]]"
      ]
     },
     "execution_count": 2,
     "metadata": {},
     "output_type": "execute_result"
    }
   ],
   "source": [
    "test = [([1], [0.5]), \n",
    "        ([2, 3], [1.6, 2.7])]\n",
    "res = ctmc.datacorrection(test)\n",
    "res"
   ]
  },
  {
   "cell_type": "code",
   "execution_count": 3,
   "metadata": {},
   "outputs": [
    {
     "data": {
      "text/plain": [
       "[[(2, 3), (1.6, 2.7)], [(4, 5, 6), (0.1, 0.2, 0.1)]]"
      ]
     },
     "execution_count": 3,
     "metadata": {},
     "output_type": "execute_result"
    }
   ],
   "source": [
    "test = [([2, 3], [1.6, 2.7]),\n",
    "        ([4, 5, 5, 6], [.1, .1, .1, .1])]\n",
    "res = ctmc.datacorrection(test)\n",
    "res"
   ]
  },
  {
   "cell_type": "code",
   "execution_count": 4,
   "metadata": {},
   "outputs": [
    {
     "data": {
      "text/plain": [
       "[[(4, 5, 6), (0.1, 0.2, 0.1)]]"
      ]
     },
     "execution_count": 4,
     "metadata": {},
     "output_type": "execute_result"
    }
   ],
   "source": [
    "test = [([4, 5, 5, 6], [.1, .1, .1, .1]),\n",
    "        ([7, 7, 7, 7], [.1, .1, .1, .1])]\n",
    "res = ctmc.datacorrection(test)\n",
    "res"
   ]
  },
  {
   "cell_type": "code",
   "execution_count": 5,
   "metadata": {},
   "outputs": [
    {
     "data": {
      "text/plain": [
       "[[(1, 2, 3), (0.1, 0.1, 0.1)], [(4, 6), (0.1, 0.1)]]"
      ]
     },
     "execution_count": 5,
     "metadata": {},
     "output_type": "execute_result"
    }
   ],
   "source": [
    "test = [([1, 2, 3], [.1, .1, .1]),\n",
    "        ([4, 5, 6], [.1, .0, .1])]\n",
    "res = ctmc.datacorrection(test)\n",
    "res"
   ]
  },
  {
   "cell_type": "code",
   "execution_count": 6,
   "metadata": {},
   "outputs": [
    {
     "data": {
      "text/plain": [
       "[[(4, 6), (0.1, 0.1)]]"
      ]
     },
     "execution_count": 6,
     "metadata": {},
     "output_type": "execute_result"
    }
   ],
   "source": [
    "test = [([4, 5, 6], [.1, .0, .1]),\n",
    "        ([7, 8, 9], [.1, .0, .0])]\n",
    "res = ctmc.datacorrection(test)\n",
    "res"
   ]
  }
 ],
 "metadata": {
  "kernelspec": {
   "display_name": "Python 3",
   "language": "python",
   "name": "python3"
  },
  "language_info": {
   "codemirror_mode": {
    "name": "ipython",
    "version": 3
   },
   "file_extension": ".py",
   "mimetype": "text/x-python",
   "name": "python",
   "nbconvert_exporter": "python",
   "pygments_lexer": "ipython3",
   "version": "3.6.2"
  }
 },
 "nbformat": 4,
 "nbformat_minor": 2
}
