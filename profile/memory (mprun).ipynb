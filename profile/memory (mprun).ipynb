{
 "cells": [
  {
   "cell_type": "markdown",
   "metadata": {},
   "source": [
    "# Memory Profile"
   ]
  },
  {
   "cell_type": "code",
   "execution_count": 1,
   "metadata": {},
   "outputs": [],
   "source": [
    "import pickle\n",
    "import sys\n",
    "sys.path.append('..')\n",
    "import ctmc"
   ]
  },
  {
   "cell_type": "code",
   "execution_count": 2,
   "metadata": {},
   "outputs": [],
   "source": [
    "with open(\"../data/example.pkl\", \"rb\") as f:\n",
    "    datalist = pickle.load(f)\n",
    "numstates = 9"
   ]
  },
  {
   "cell_type": "code",
   "execution_count": 3,
   "metadata": {},
   "outputs": [],
   "source": [
    "%load_ext memory_profiler"
   ]
  },
  {
   "cell_type": "code",
   "execution_count": 4,
   "metadata": {},
   "outputs": [
    {
     "name": "stdout",
     "output_type": "stream",
     "text": [
      "peak memory: 53.62 MiB, increment: 0.24 MiB\n"
     ]
    }
   ],
   "source": [
    "%memit ctmc.ctmc(datalist, numstates, 1.0)"
   ]
  },
  {
   "cell_type": "markdown",
   "metadata": {},
   "source": [
    "## ctmc.ctmc"
   ]
  },
  {
   "cell_type": "code",
   "execution_count": 5,
   "metadata": {},
   "outputs": [
    {
     "name": "stdout",
     "output_type": "stream",
     "text": [
      "\n"
     ]
    },
    {
     "data": {
      "text/plain": [
       "Filename: ../ctmc/ctmc_func.py\n",
       "\n",
       "Line #    Mem usage    Increment   Line Contents\n",
       "================================================\n",
       "     9     53.9 MiB     53.9 MiB   def ctmc(data, numstates, transintv=1.0, toltime=1e-8, debug=False):\n",
       "    10                                 \"\"\" Continous Time Markov Chain\n",
       "    11                             \n",
       "    12                                 Parameters\n",
       "    13                                 ----------\n",
       "    14                                 data : list of lists\n",
       "    15                                     A python list of N examples (e.g. rating histories of N companies,\n",
       "    16                                     the event data of N basketball games, etc.). The i-th example\n",
       "    17                                     consist of one list with M_i encoded state labels and M_i the\n",
       "    18                                     durations or time periods the state lasted since the recording\n",
       "    19                                     started.\n",
       "    20                             \n",
       "    21                                 numstates : int\n",
       "    22                                     number of unique states\n",
       "    23                             \n",
       "    24                                 transintv : float\n",
       "    25                                     The time interval\n",
       "    26                             \n",
       "    27                                 toltime : float\n",
       "    28                                     (If debug=True) Will throw an exception if the aggregated state\n",
       "    29                                     duration or aggregated time periods of any state is smaller\n",
       "    30                                     than toltime.\n",
       "    31                             \n",
       "    32                                 debug : bool\n",
       "    33                                     (Default: False) If True run the ctmc.datacheck function.\n",
       "    34                                     Enable this flag if you to check if your 'data' variable\n",
       "    35                                     has been processed correctly.\n",
       "    36                             \n",
       "    37                                 Returns\n",
       "    38                                 -------\n",
       "    39                                 transmat : ndarray\n",
       "    40                                     The estimated transition/stochastic matrix.\n",
       "    41                             \n",
       "    42                                 genmat : ndarray\n",
       "    43                                     The estimated generator matrix\n",
       "    44                             \n",
       "    45                                 transcount : ndarray\n",
       "    46                             \n",
       "    47                                 statetime : ndarray\n",
       "    48                             \n",
       "    49                             \n",
       "    50                                 Errors:\n",
       "    51                                 -------\n",
       "    52                                 - ctmc assumes a clean data object and does not\n",
       "    53                                     autocorrect any errors as result of it\n",
       "    54                             \n",
       "    55                                 The main error sources are\n",
       "    56                             \n",
       "    57                                 - transitions counting (e.g. two consequtive states\n",
       "    58                                     has not been aggregated, only one distinct state\n",
       "    59                                     reported) and\n",
       "    60                                 - a state is modeled ore required that does not occur\n",
       "    61                                     in the dataset (e.g. you a certain scale in mind\n",
       "    62                                     and just assume it's in the data) or resp. involved\n",
       "    63                                     in any transition (e.g. an example with just one\n",
       "    64                                     state)\n",
       "    65                             \n",
       "    66                                 You can enable error checking and exceptions by setting\n",
       "    67                                 debug=True. You should do this for the first run on a\n",
       "    68                                 smaller dataset.\n",
       "    69                             \n",
       "    70                                 Example:\n",
       "    71                                 --------\n",
       "    72                                 Use `datacheck` to check during preprocessing the\n",
       "    73                                 dataset\n",
       "    74                             \n",
       "    75                                     data = ...\n",
       "    76                                     ctmc.datacheck(data, numstates, toltime)\n",
       "    77                             \n",
       "    78                                 Disable checks in `ctmc`\n",
       "    79                             \n",
       "    80                                     transmat, genmat, transcount, statetime = ctmc.ctmc(\n",
       "    81                                         data, numstates, toltime, checks=False)\n",
       "    82                             \n",
       "    83                                 Check aftwards if there has been an error\n",
       "    84                             \n",
       "    85                                     ctmc.errorcheck(transcount, statetime, toltime)\n",
       "    86                             \n",
       "    87                                 \"\"\"\n",
       "    88                                 # raise an exception if the data format is wrong\n",
       "    89     53.9 MiB      0.0 MiB       if debug:\n",
       "    90                                     datacheck(data, numstates, toltime)\n",
       "    91                             \n",
       "    92                                 # aggregate event data\n",
       "    93     53.9 MiB      0.0 MiB       transcount, statetime = aggregateevents(data, numstates)\n",
       "    94                             \n",
       "    95                                 # raise an exception if the event data aggregation failed\n",
       "    96     53.9 MiB      0.0 MiB       if debug:\n",
       "    97                                     errorcheck(transcount, statetime, toltime)\n",
       "    98                             \n",
       "    99                                 # create generator matrix\n",
       "   100     53.9 MiB      0.0 MiB       genmat = generatormatrix(transcount, statetime)\n",
       "   101                             \n",
       "   102                                 # compute matrix exponential of the generator matrix\n",
       "   103     53.9 MiB      0.0 MiB       transmat = scipy.linalg.expm(genmat * transintv)\n",
       "   104                             \n",
       "   105                                 # done\n",
       "   106     53.9 MiB      0.0 MiB       return transmat, genmat, transcount, statetime"
      ]
     },
     "metadata": {},
     "output_type": "display_data"
    }
   ],
   "source": [
    "%mprun -f ctmc.ctmc ctmc.ctmc(datalist, numstates, 1.0)"
   ]
  },
  {
   "cell_type": "markdown",
   "metadata": {},
   "source": [
    "## ctmc.aggregateevents"
   ]
  },
  {
   "cell_type": "code",
   "execution_count": 6,
   "metadata": {},
   "outputs": [
    {
     "name": "stdout",
     "output_type": "stream",
     "text": [
      "\n"
     ]
    },
    {
     "data": {
      "text/plain": [
       "Filename: ../ctmc/aggregateevents.py\n",
       "\n",
       "Line #    Mem usage    Increment   Line Contents\n",
       "================================================\n",
       "     6     53.9 MiB     53.9 MiB   def aggregateevents(data, numstates):\n",
       "     7                             \n",
       "     8     53.9 MiB      0.0 MiB       transcount = scipy.sparse.lil_matrix((numstates, numstates), dtype=int)\n",
       "     9     53.9 MiB      0.0 MiB       statetime = np.zeros(numstates, dtype=float)\n",
       "    10                             \n",
       "    11     53.9 MiB      0.0 MiB       for _, example in enumerate(data):\n",
       "    12     53.9 MiB      0.0 MiB           states = example[0]\n",
       "    13     53.9 MiB      0.0 MiB           times = example[1]\n",
       "    14                             \n",
       "    15     53.9 MiB      0.0 MiB           for i, s in enumerate(states):\n",
       "    16     53.9 MiB      0.0 MiB               statetime[s] += times[i]\n",
       "    17     53.9 MiB      0.0 MiB               if i:\n",
       "    18     53.9 MiB      0.0 MiB                   transcount[states[i - 1], s] += 1\n",
       "    19                             \n",
       "    20     53.9 MiB      0.0 MiB       return transcount.toarray(), statetime"
      ]
     },
     "metadata": {},
     "output_type": "display_data"
    }
   ],
   "source": [
    "%mprun -f ctmc.aggregateevents ctmc.ctmc(datalist, numstates, 1.0)"
   ]
  }
 ],
 "metadata": {
  "kernelspec": {
   "display_name": "Python 3",
   "language": "python",
   "name": "python3"
  },
  "language_info": {
   "codemirror_mode": {
    "name": "ipython",
    "version": 3
   },
   "file_extension": ".py",
   "mimetype": "text/x-python",
   "name": "python",
   "nbconvert_exporter": "python",
   "pygments_lexer": "ipython3",
   "version": "3.6.2"
  }
 },
 "nbformat": 4,
 "nbformat_minor": 2
}
